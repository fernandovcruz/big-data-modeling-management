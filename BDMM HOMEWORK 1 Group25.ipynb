{
 "cells": [
  {
   "cell_type": "markdown",
   "metadata": {},
   "source": [
    "# Big Data Modeling and Management Assigment - Homework 1"
   ]
  },
  {
   "cell_type": "markdown",
   "metadata": {},
   "source": [
    "## 🍺 The Beer project  🍺 \n",
    "\n",
    "As it was shown in classes, graph databases are a natural way of navegating distinct types of data. For this first project we will be taking a graph database to analyse beer and breweries!   \n",
    "\n",
    "_For reference the dataset used for this project has been extracted from [kaggle](https://www.kaggle.com/ehallmar/beers-breweries-and-beer-reviews), released by Evan Hallmark. Even though the author does not present metada on the origin of the data it is probably a collection of open data from places like [beeradvocate](https://www.beeradvocate.com/)_.\n",
    "\n",
    "### Problem description\n",
    "\n",
    "Explore the database via python neo4j connector and/or the graphical tool in the NEO4J webpage. Answer the questions. Submit the results by following the instructions\n",
    "\n",
    "\n",
    "### Questions\n",
    "\n",
    "1. How many different countries exist in the database?\n",
    "1. Most reviews:  \n",
    "    1. Which `Beer` has the most reviews?  \n",
    "    1. Which `Brewery` has the most reviews for its beers? [Hint: 5-node path]\n",
    "    1. Which `Country` has the most reviews for its beers? [Hint: 5-node path]\n",
    "1. Find the user/users that have the most shared reviews (reviews of the same beers) with the user CTJman?\n",
    "1. Which Portuguese brewery has the most beers?\n",
    "1. From those beers (the ones returned from the previous question), which has the most reviews?\n",
    "1. On average how many different beer styles does each brewery produce?\n",
    "1. Which brewery produces the strongest beers according to ABV? [Hint: database has NaN values]\n",
    "1. If I typically enjoy a beer due to its aroma and appearance, which beer style should I try? (Justify your answer well!) [Hint: database has NaN values]\n",
    "1. Using Graph Algorithms answer **one** of the following questions: [Hint: make sure to clear the graph before using it again]\n",
    "    1. Which two countries are most similiar when it comes to their **top 10** most produced Beer styles?\n",
    "    2. Which beer is the most influential when considering beers are conected by users who review them? [Please use limit of 1000 on beer-review-user path]]\n",
    "    3. Users are connected together by their reviews to beers, taking into consideration the \"overall\" score they review as a weight, how many communities are formed from these relationships? How many users has the biggest community? [Please use limit of 1000 on beer-review-user path]]\n",
    "1. Using Graph Algorithms answer **one** of the following questions:\n",
    "    1. Which beer has the most similar reviews as the beer `Super Bock Stout`? [Hint:inspect two subsets: with and without the beer in question]\n",
    "    2. Which user is the most influential when it comes to reviews made?\n",
    "1. If you had to pick 3 beers to recommend using only this database, which would you pick and why? (Justify your answer well!) [Hint: database has NaN values]\n",
    "\n",
    "\n",
    "Questions 8 to 10 are somewhat open, which means we'll also be evaluating the reasoning behind your answer. So there aren't necessarily bad results there are only wrong criteria, explanations or execution. \n",
    " \n",
    "### Groups  \n",
    "\n",
    "Groups should have 4 to 5 people.\n",
    "You should register your group on **moodle**.\n",
    "\n",
    "### Submission      \n",
    "\n",
    "The code used to produce the results and respective explations should be uploaded to moodle. They should have a clear reference to the group, either on the file name or on the document itself. Preferably one Jupyter notebook per group.\n",
    "\n",
    "Delivery date: Until the **midnight of March 13**\n",
    "\n",
    "### Evaluation   \n",
    "\n",
    "This will be 20% of the final grade.   \n",
    "Each solution will be evaluated on 2 components: correctness of results and simplicity of the solution.  \n",
    "All code will go through plagiarism automated checks. Groups with the same code will undergo investigation."
   ]
  },
  {
   "cell_type": "markdown",
   "metadata": {},
   "source": [
    "## Loading the Database\n",
    "\n",
    "#### Be sure that you **don't have** the neo4j docker container from the classes running (you can Stop it in the desktop app or with the command \"`docker stop Neo4JLab`\")\n",
    "\n",
    "\n",
    "The default container does not have any data whatsoever, we will have to load a database into our docker image:\n",
    "- Download and unzip the `Neo4JHWData` file provided in Moodle.\n",
    "- Copy the path of the `Neo4JHWData` folder of the unziped file, e.g. `C:/Users/nunoa/Desktop/Aulas/Big Data Management and Modelling/2023/HW1/Neo4JHWData/data`.\n",
    "- Download and unzip the `Neo4JPlugins` file provided in Moodle.\n",
    "- Copy the path of the `Neo4JPlugins` folder of the unziped file, e.g. `C:/Users/nunoa/Desktop/Aulas/Big Data Management and Modelling/2023/Neo4Jplugins`.\n",
    "- Change the code bellow accordingly. As you might have noticed, you do not have a user called `nunoa`, please use the appropriate path that you got from the previous step. Be sure that you have a neo4j docker container running: \\\n",
    "\n",
    "`docker run --name Neo4JHW -p 7474:7474 -p 7687:7687 -d -v \"C:/Users/nunoa/Desktop/Aulas/Big Data Management and Modelling/2023/Neo4Jplugins\":/plugins -v \"C:/Users/nunoa/Desktop/Aulas/Big Data Management and Modelling/2023/HW1/Neo4JHWData/data\":/data --env NEO4J_AUTH=neo4j/test --env NEO4J_dbms_connector_https_advertised__address=\"localhost:7473\" --env NEO4J_dbms_connector_http_advertised__address=\"localhost:7474\" --env NEO4J_dbms_connector_bolt_advertised__address=\"localhost:7687\" --env NEO4J_dbms_security_procedures_unrestricted=gds.* --env NEO4J_dbms_security_procedures_allowlist=gds.* neo4j`\n",
    "\n",
    "- Since Neo4j is trying to recognize a new database folder, this might take a bit (let's say 3 minutes), so don't worry."
   ]
  },
  {
   "cell_type": "code",
   "execution_count": 1,
   "metadata": {},
   "outputs": [],
   "source": [
    "from neo4j import GraphDatabase\n",
    "from pprint import pprint"
   ]
  },
  {
   "cell_type": "code",
   "execution_count": 2,
   "metadata": {},
   "outputs": [],
   "source": [
    "NEO4J_URI=\"neo4j://localhost:7687\"\n",
    "NEO4J_USERNAME=\"neo4j\"\n",
    "NEO4J_PASSWORD=\"test\""
   ]
  },
  {
   "cell_type": "code",
   "execution_count": 3,
   "metadata": {},
   "outputs": [],
   "source": [
    "driver = GraphDatabase.driver(NEO4J_URI, auth=(NEO4J_USERNAME, NEO4J_PASSWORD), )"
   ]
  },
  {
   "cell_type": "markdown",
   "metadata": {},
   "source": [
    "### All The Functions you'll need to run queries in Neo4J"
   ]
  },
  {
   "cell_type": "code",
   "execution_count": 4,
   "metadata": {},
   "outputs": [],
   "source": [
    "def execute_read(driver, query):    \n",
    "    with driver.session(database=\"neo4j\") as session:\n",
    "        result = session.execute_read(lambda tx, query: list(tx.run(query)), query)\n",
    "    return result"
   ]
  },
  {
   "cell_type": "markdown",
   "metadata": {},
   "source": [
    "### Understanding the Database"
   ]
  },
  {
   "cell_type": "code",
   "execution_count": 5,
   "metadata": {},
   "outputs": [
    {
     "name": "stdout",
     "output_type": "stream",
     "text": [
      "[<Record label='COUNTRIES'>,\n",
      " <Record label='CITIES'>,\n",
      " <Record label='BREWERIES'>,\n",
      " <Record label='BEERS'>,\n",
      " <Record label='REVIEWS'>,\n",
      " <Record label='STYLE'>,\n",
      " <Record label='USER'>]\n"
     ]
    }
   ],
   "source": [
    "query = \"\"\"\n",
    "        call db.labels();\n",
    "    \"\"\"\n",
    "\n",
    "result = execute_read(driver, query)\n",
    "\n",
    "pprint(result)"
   ]
  },
  {
   "cell_type": "code",
   "execution_count": 6,
   "metadata": {},
   "outputs": [
    {
     "name": "stdout",
     "output_type": "stream",
     "text": [
      "[<Record relationshipType='REVIEWED'>,\n",
      " <Record relationshipType='BREWED'>,\n",
      " <Record relationshipType='IN'>,\n",
      " <Record relationshipType='HAS_STYLE'>,\n",
      " <Record relationshipType='POSTED'>]\n"
     ]
    }
   ],
   "source": [
    "query = \"\"\"\n",
    "        CALL db.relationshipTypes();\n",
    "    \"\"\"\n",
    "\n",
    "result = execute_read(driver, query)\n",
    "\n",
    "pprint(result)"
   ]
  },
  {
   "cell_type": "markdown",
   "metadata": {},
   "source": [
    "# Submission\n",
    "\n",
    "GROUP NUMBER:\n",
    "\n",
    "**Group25**\n",
    "\n",
    "GROUP MEMBERS:\n",
    "\n",
    "|STUDENT NUMBER|STUDENT NAME|\n",
    "|---|---|\n",
    "|20191224|André Cunha|\n",
    "|20191211|Catarina Duarte|\n",
    "|20191190|Dinis Melo|\n",
    "|20220646|Fernando Cruz|\n",
    "|20220592|Pedro Fernandes|"
   ]
  },
  {
   "cell_type": "markdown",
   "metadata": {},
   "source": [
    "#### 1. How many different countries exist in the database?"
   ]
  },
  {
   "cell_type": "code",
   "execution_count": 7,
   "metadata": {},
   "outputs": [
    {
     "name": "stdout",
     "output_type": "stream",
     "text": [
      "[<Record count(*)=200>]\n"
     ]
    }
   ],
   "source": [
    "query = \"\"\"\n",
    "        MATCH (c:COUNTRIES)\n",
    "        RETURN DISTINCT count(*)\n",
    "    \"\"\"\n",
    "\n",
    "result = execute_read(driver, query)\n",
    "\n",
    "pprint(result)"
   ]
  },
  {
   "cell_type": "markdown",
   "metadata": {},
   "source": [
    "#### 2. Most reviews:  \n",
    "    A) Which `Beer` has the most reviews?  \n",
    "    B) Which `Brewery` has the most reviews for its beers?\n",
    "    C) Which `Country` has the most reviews for its beers? "
   ]
  },
  {
   "cell_type": "code",
   "execution_count": 8,
   "metadata": {},
   "outputs": [
    {
     "name": "stdout",
     "output_type": "stream",
     "text": [
      "[<Record b.name='IPA' nr_reviews=31387>]\n"
     ]
    }
   ],
   "source": [
    "query = \"\"\"\n",
    "        MATCH (b:BEERS)-[:REVIEWED]->(r:REVIEWS)\n",
    "        RETURN b.name, count(r) AS nr_reviews       \n",
    "        ORDER BY nr_reviews desc\n",
    "        LIMIT 1\n",
    "    \"\"\"\n",
    "#We decided to go with count(r) instead of count(*) to only count the reviews\n",
    "#We returned the name of the beer with the most reviews as well as the respective reviews count\n",
    "\n",
    "result = execute_read(driver, query)\n",
    "\n",
    "pprint(result)"
   ]
  },
  {
   "cell_type": "code",
   "execution_count": 9,
   "metadata": {},
   "outputs": [
    {
     "name": "stdout",
     "output_type": "stream",
     "text": [
      "[<Record br.name='Sierra Nevada Brewing Co.' nr_reviews=175161>]\n"
     ]
    }
   ],
   "source": [
    "query = \"\"\"\n",
    "        MATCH (br:BREWERIES)-[bre:BREWED]->(b:BEERS)-[rev:REVIEWED]->(r:REVIEWS)\n",
    "        RETURN br.name, count(r) AS nr_reviews\n",
    "        ORDER BY nr_reviews desc\n",
    "        LIMIT 1\n",
    "    \"\"\"\n",
    "\n",
    "#We just added (br:BREWERIES)-[bre:BREWED]-> to the previous query to relate each beer to its \n",
    "#brewery and consequetly to the reviews\n",
    "\n",
    "result = execute_read(driver, query)\n",
    "\n",
    "pprint(result)"
   ]
  },
  {
   "cell_type": "code",
   "execution_count": 10,
   "metadata": {},
   "outputs": [
    {
     "name": "stdout",
     "output_type": "stream",
     "text": [
      "[<Record c.name='US' nr_reviews=7675804>]\n"
     ]
    }
   ],
   "source": [
    "query = \"\"\"\n",
    "        MATCH (c:COUNTRIES)<-[:IN]-(cit:CITIES)<-[:IN]-(br:BREWERIES)-[bre:BREWED]->(b:BEERS)-[rev:REVIEWED]->(r:REVIEWS)\n",
    "        RETURN c.name, count(r) AS nr_reviews\n",
    "        ORDER BY nr_reviews desc\n",
    "        limit 1\n",
    "    \"\"\"\n",
    "#We just added (c:COUNTRIES)<-[:IN]-(cit:CITIES)<-[:IN]- to the previous query to relate each country and city to each \n",
    "#brewery and beer and consequently to the reviews\n",
    "\n",
    "result = execute_read(driver, query)\n",
    "\n",
    "pprint(result)"
   ]
  },
  {
   "cell_type": "markdown",
   "metadata": {},
   "source": [
    "#### 3. Find the user/users that have the most shared reviews (reviews of the same beers) with the user CTJman?"
   ]
  },
  {
   "cell_type": "code",
   "execution_count": 11,
   "metadata": {},
   "outputs": [
    {
     "name": "stdout",
     "output_type": "stream",
     "text": [
      "[<Record u2.name='acurtis' nr_beers=1428>]\n"
     ]
    }
   ],
   "source": [
    "query = \"\"\"\n",
    "        MATCH (u1:USER{name:\"CTJman\"})<-[:POSTED]-(r1:REVIEWS)<-[:REVIEWED]-(b:BEERS)-[:REVIEWED]->(r2:REVIEWS)-[:POSTED]->(u2:USER)\n",
    "        RETURN u2.name, count(b) as nr_beers\n",
    "        ORDER BY nr_beers DESC\n",
    "        LIMIT 1\n",
    "    \"\"\"\n",
    "#We started the match with the user we wanted (CTJman) and did the relations until beers\n",
    "#That way, would have access to all the beers which were reviewed by CTJman\n",
    "#Then, we connected beers to users (u2), so we would have access to all the users which reviewed some of the same beers\n",
    "#When returning the u2 users names and the count of beers, we had access to the number of beers reviewed in common with CTJman\n",
    "\n",
    "result = execute_read(driver, query)\n",
    "\n",
    "pprint(result)"
   ]
  },
  {
   "cell_type": "markdown",
   "metadata": {},
   "source": [
    "#### 4. Which Portuguese brewery has the most beers?\n"
   ]
  },
  {
   "cell_type": "code",
   "execution_count": 12,
   "metadata": {},
   "outputs": [
    {
     "name": "stdout",
     "output_type": "stream",
     "text": [
      "[<Record br.name='Dois Corvos Cervejeira' nr_beers=40>]\n"
     ]
    }
   ],
   "source": [
    "query = \"\"\"\n",
    "        MATCH (c:COUNTRIES{name:\"PT\"})<-[:IN]-(cit:CITIES)<-[:IN]-(br:BREWERIES)-[bre:BREWED]->(b:BEERS)\n",
    "        RETURN br.name, count(b) as nr_beers\n",
    "        ORDER BY nr_beers desc\n",
    "        limit 1\n",
    "    \"\"\"\n",
    "\n",
    "#We connected the countries (specifically Portugal) to beers through cities and breweries and then returned the names of the breweries\n",
    "#and the number of beers, that way we would know the number of beers each Portuguese brewery had\n",
    "\n",
    "result = execute_read(driver, query)\n",
    "\n",
    "pprint(result)"
   ]
  },
  {
   "cell_type": "markdown",
   "metadata": {},
   "source": [
    "#### 5. From those beers (the ones produced in the brewery from the previous question), which has the most reviews?\n"
   ]
  },
  {
   "cell_type": "code",
   "execution_count": 13,
   "metadata": {},
   "outputs": [
    {
     "name": "stdout",
     "output_type": "stream",
     "text": [
      "[<Record br.name='Dois Corvos Cervejeira' b.name='Finisterra' nr_reviews=10>]\n"
     ]
    }
   ],
   "source": [
    "query = \"\"\"\n",
    "        MATCH (br:BREWERIES{name:\"Dois Corvos Cervejeira\"})-[bre:BREWED]->(b:BEERS)-[:REVIEWED]->(r:REVIEWS)\n",
    "        RETURN br.name, b.name, count(r) as nr_reviews\n",
    "        ORDER BY nr_reviews desc\n",
    "        LIMIT 1\n",
    "    \"\"\"\n",
    "\n",
    "#This query was similar to the previous (4), since we only had to go from breweries (specifying the name of it) to reviews\n",
    "\n",
    "result = execute_read(driver, query)\n",
    "\n",
    "pprint(result)"
   ]
  },
  {
   "cell_type": "markdown",
   "metadata": {},
   "source": [
    "#### 6. On average how many different beer styles does each brewery produce?"
   ]
  },
  {
   "cell_type": "code",
   "execution_count": 14,
   "metadata": {},
   "outputs": [
    {
     "name": "stdout",
     "output_type": "stream",
     "text": [
      "[<Record avg_num_styles=10.595992516144538>]\n"
     ]
    }
   ],
   "source": [
    "query = \"\"\"\n",
    "        MATCH (b:BREWERIES)-[:BREWED]->(beer:BEERS)-[:HAS_STYLE]->(s:STYLE)\n",
    "        WITH b, count(distinct s) AS num_styles\n",
    "        RETURN AVG(num_styles) AS avg_num_styles\n",
    "    \"\"\"\n",
    "\n",
    "#We connected Breweries to Style through Beers\n",
    "#We counted the distinct beer styles each brewery had in the \"WITH\"\n",
    "#Then we returned the average\n",
    "\n",
    "result = execute_read(driver, query)\n",
    "\n",
    "pprint(result)"
   ]
  },
  {
   "cell_type": "markdown",
   "metadata": {},
   "source": [
    "#### 7. Which brewery produces the strongest beers according to ABV?"
   ]
  },
  {
   "cell_type": "code",
   "execution_count": 15,
   "metadata": {},
   "outputs": [
    {
     "name": "stdout",
     "output_type": "stream",
     "text": [
      "[<Record bre.name='Schorschbräu' abv_average=22.515384615384612>]\n"
     ]
    }
   ],
   "source": [
    "query = \"\"\"\n",
    "        MATCH (bre:BREWERIES)-[:BREWED]->(b:BEERS)\n",
    "        WHERE b.abv IS NOT NULL AND toFloat(b.abv)<100\n",
    "        RETURN bre.name, AVG(toFloat(b.abv)) as abv_average\n",
    "        ORDER BY abv_average desc\n",
    "        LIMIT 1\n",
    "    \"\"\"\n",
    "\n",
    "#We connected Breweries to Beers\n",
    "#In the WHERE condition we made sure we weren't counting any beers which had no value in the abv using the IS NOT NULL\n",
    "#We also made sure we weren't accounting beers which had abv equal to 100, since it would be just alchool \n",
    "#Then it was a matter of just returning the average abv value for the beers in each Brewery \n",
    "\n",
    "\n",
    "result = execute_read(driver, query)\n",
    "\n",
    "pprint(result)"
   ]
  },
  {
   "cell_type": "markdown",
   "metadata": {},
   "source": [
    "#### 8. If I typically enjoy a beer due to its aroma and appearance, which beer style should I try?"
   ]
  },
  {
   "cell_type": "code",
   "execution_count": 16,
   "metadata": {},
   "outputs": [
    {
     "name": "stdout",
     "output_type": "stream",
     "text": [
      "[<Record s.name='New England IPA' Avg_smell_look_sum=8.797210377972341>]\n"
     ]
    }
   ],
   "source": [
    "query = \"\"\"\n",
    "        MATCH (s:STYLE)<-[:HAS_STYLE]-(b:BEERS)-[:REVIEWED]->(r:REVIEWS)\n",
    "        WHERE r.smell<>\"nan\" AND r.look<>\"nan\" \n",
    "        RETURN s.name, AVG(toFloat(r.smell)+toFloat(r.look)) as Avg_smell_look_sum\n",
    "        ORDER BY Avg_smell_look_sum desc\n",
    "        LIMIT 1\n",
    "    \"\"\"\n",
    "#We connected the beer Style to Reviews through Beer and using the \"WHERE\" condition we decide to not count the Reviews which \n",
    "#had missing values for at least one of the characteristics (smell and look).\n",
    "#Then we added the values of these features, and then returned the average sum value for each beer style\n",
    "\n",
    "\n",
    "result = execute_read(driver, query)\n",
    "\n",
    "pprint(result)"
   ]
  },
  {
   "cell_type": "markdown",
   "metadata": {},
   "source": [
    "#### 9. Using Graph Algorithms answer **one** of the following questions:\n",
    "    1. Which two countries are most similiar when it comes to their **top 10** most produced Beer styles?\n",
    "    2. Which beer is the most influential when considering beers are conected by users who review them?\n",
    "    3. Users are connected together by their reviews to beers, taking into consideration the \"overall\" score they review as a weight, how many communities are formed from these relationships? How many users has the biggest community?"
   ]
  },
  {
   "cell_type": "code",
   "execution_count": 17,
   "metadata": {},
   "outputs": [
    {
     "name": "stdout",
     "output_type": "stream",
     "text": [
      "ClientError('Failed to invoke procedure `gds.graph.drop`: Caused by: java.util.NoSuchElementException: Graph with name `exercise_9` does not exist on database `neo4j`. It might exist on another database.')\n"
     ]
    }
   ],
   "source": [
    "#2\n",
    "# Step 0 - Clear graph, graph names need to be unique\n",
    "\n",
    "try:\n",
    "    query = \"\"\"\n",
    "            CALL gds.graph.drop('exercise_9') YIELD graphName;\n",
    "        \"\"\"\n",
    "\n",
    "    result = execute_read(driver, query)\n",
    "\n",
    "    pprint(result)\n",
    "except Exception as e:\n",
    "    pprint(e)"
   ]
  },
  {
   "cell_type": "code",
   "execution_count": 18,
   "metadata": {},
   "outputs": [
    {
     "name": "stdout",
     "output_type": "stream",
     "text": [
      "[<Record nodeQuery='MATCH (n:BEERS) RETURN id(n) AS id' relationshipQuery='MATCH (b1:BEERS)-[:REVIEWED]-(r1:REVIEWS)-[:POSTED]-(u:USER)-[:POSTED]-(r2:REVIEWS)-[:REVIEWED]-(b2:BEERS) RETURN id(b1) AS source, id(b2) AS target limit 10000000' graphName='exercise_9' nodeCount=358873 relationshipCount=10000000 projectMillis=54713>]\n"
     ]
    }
   ],
   "source": [
    "try:\n",
    "    query = \"\"\"\n",
    "        CALL gds.graph.project.cypher(\n",
    "            'exercise_9',\n",
    "            'MATCH (n:BEERS) RETURN id(n) AS id',\n",
    "            'MATCH (b1:BEERS)-[:REVIEWED]-(r1:REVIEWS)-[:POSTED]-(u:USER)-[:POSTED]-(r2:REVIEWS)-[:REVIEWED]-(b2:BEERS) RETURN id(b1) AS source, id(b2) AS target limit 10000000'\n",
    "        )\n",
    "        \"\"\"\n",
    "    #Considering that beers are connected by users who reviewed them, we calculated which beer was connected to the \n",
    "    #highest number of other beers through users. This was our interpretion of influential\n",
    "    \n",
    "    result = execute_read(driver, query)\n",
    "\n",
    "    pprint(result)\n",
    "except Exception as e:\n",
    "    pprint(e)"
   ]
  },
  {
   "cell_type": "code",
   "execution_count": 19,
   "metadata": {},
   "outputs": [
    {
     "name": "stdout",
     "output_type": "stream",
     "text": [
      "[<Record name='Breakfast Stout' score=1.4330841235227758>]\n"
     ]
    }
   ],
   "source": [
    "# Step 2 - Run the algorithm\n",
    "\n",
    "try:\n",
    "    query = \"\"\"\n",
    "        CALL gds.pageRank.stream('exercise_9')\n",
    "            YIELD nodeId, score\n",
    "            RETURN gds.util.asNode(nodeId).name AS name, score\n",
    "            ORDER BY score DESC\n",
    "            limit 1\n",
    "        \"\"\"\n",
    "    \n",
    "\n",
    "    result = execute_read(driver, query)\n",
    "\n",
    "    pprint(result)\n",
    "except Exception as e:\n",
    "    pprint(e)"
   ]
  },
  {
   "cell_type": "markdown",
   "metadata": {},
   "source": [
    "#### 10. Using Graph Algorithms answer **one** of the following questions:\n",
    "    1. Which beer has the most similar reviews as the beer `Super Bock Stout`?\n",
    "    2. Which user is the most influential when it comes to reviews made?"
   ]
  },
  {
   "cell_type": "code",
   "execution_count": 24,
   "metadata": {},
   "outputs": [
    {
     "name": "stdout",
     "output_type": "stream",
     "text": [
      "[<Record graphName='exercise_10'>]\n"
     ]
    }
   ],
   "source": [
    "# Step 0 - Clear graph\n",
    "\n",
    "try:\n",
    "    query = \"\"\"\n",
    "            CALL gds.graph.drop('exercise_10') YIELD graphName;\n",
    "        \"\"\"\n",
    "\n",
    "    result = execute_read(driver, query)\n",
    "\n",
    "    pprint(result)\n",
    "except Exception as e:\n",
    "    pprint(e)"
   ]
  },
  {
   "cell_type": "code",
   "execution_count": 25,
   "metadata": {},
   "outputs": [
    {
     "name": "stdout",
     "output_type": "stream",
     "text": [
      "[<Record nodeQuery=\"MATCH (n) where head(Labels(n))='BEERS' or head(Labels(n))='REVIEWS' RETURN id(n) AS id\" relationshipQuery=\"MATCH (b1:BEERS)-[:REVIEWED]-(r1:REVIEWS)\\n                WITH b1, collect(r1.taste) as sbStoutTaste, collect(r1.feel) as sbStoutFeel\\n                WHERE b1.name = 'Super Bock Stout'\\n\\n                MATCH (b2:BEERS)-[:REVIEWED]-(r2:REVIEWS)\\n                where any(x IN sbStoutTaste WHERE x = r2.taste)\\n                return id(b2) AS source, id(r2) AS target limit 1000\" graphName='exercise_10' nodeCount=9431982 relationshipCount=1000 projectMillis=64749>]\n"
     ]
    }
   ],
   "source": [
    "# Step 1 - Create an appropriate graph\n",
    "\n",
    "try:\n",
    "    query = \"\"\"\n",
    "        CALL gds.graph.project.cypher(\n",
    "            'exercise_10',\n",
    "            \"MATCH (n) where head(Labels(n))='BEERS' or head(Labels(n))='REVIEWS' RETURN id(n) AS id\",\n",
    "            \"MATCH (b1:BEERS)-[:REVIEWED]-(r1:REVIEWS)\n",
    "                WITH b1, collect(r1.taste) as sbStoutTaste, collect(r1.feel) as sbStoutFeel\n",
    "                WHERE b1.name = 'Super Bock Stout'\n",
    "\n",
    "                MATCH (b2:BEERS)-[:REVIEWED]-(r2:REVIEWS)\n",
    "                where any(x IN sbStoutTaste WHERE x = r2.taste)\n",
    "                return id(b2) AS source, id(r2) AS target limit 1000\"\n",
    "   \n",
    "            )\n",
    "        \"\"\"\n",
    "    #We took as a criteria of similerity the taste and feel. For that we retrieve beers with the same taste and \n",
    "    #feel as SUPER BOCK STOUT\n",
    "\n",
    "    result = execute_read(driver, query)\n",
    "\n",
    "    pprint(result)\n",
    "except Exception as e:\n",
    "    pprint(e)"
   ]
  },
  {
   "cell_type": "code",
   "execution_count": 26,
   "metadata": {},
   "outputs": [
    {
     "name": "stdout",
     "output_type": "stream",
     "text": [
      "[]\n"
     ]
    }
   ],
   "source": [
    "# Step 2 - Run the algorithm\n",
    "\n",
    "try:\n",
    "    query = \"\"\"\n",
    "        CALL gds.nodeSimilarity.stream('exercise_10')\n",
    "            YIELD node1, node2, similarity\n",
    "            with gds.util.asNode(node1).name AS beer, gds.util.asNode(node2).name AS beer2, similarity\n",
    "            WHERE beer >= 'Super Bock Stout'\n",
    "            RETURN beer, beer2, similarity\n",
    "            ORDER BY beer ASC, similarity desc\n",
    "            limit 1\n",
    "        \"\"\"\n",
    "\n",
    "    #We were unable to run the algorithm properly due to memory\n",
    "    #We got 2 beers being one of them stout, acessed their similarity and returned the most similar one\n",
    "    \n",
    "    result = execute_read(driver, query)\n",
    "\n",
    "    pprint(result)\n",
    "except Exception as e:\n",
    "    pprint(e)"
   ]
  },
  {
   "cell_type": "markdown",
   "metadata": {},
   "source": [
    "#### 11. If you had to pick 3 beers to recommend using only this database, which would you pick and why?"
   ]
  },
  {
   "cell_type": "code",
   "execution_count": 23,
   "metadata": {},
   "outputs": [
    {
     "name": "stdout",
     "output_type": "stream",
     "text": [
      "[<Record b.name='Heady Topper' count(r)=1024>,\n",
      " <Record b.name='Pliny The Elder' count(r)=727>,\n",
      " <Record b.name='KBS (Kentucky Breakfast Stout)' count(r)=569>]\n"
     ]
    }
   ],
   "source": [
    "query = \"\"\"\n",
    "        MATCH (b:BEERS)-[:REVIEWED]->(r:REVIEWS)\n",
    "        WHERE toInteger(r.score) = 5 AND toInteger(r.overall) = 5\n",
    "        RETURN b.name, count(r)\n",
    "        ORDER BY count(r) DESC\n",
    "        limit 3\n",
    "\n",
    "    \"\"\"\n",
    "\n",
    "#On a first thought we tried to see the highest average on score and overall while at the same time a low standard deviation to have this\n",
    "#as a proof of a consensual opinion. This did not reach a satisfactory result since the beers presented had a small number of reviews and \n",
    "#similar values.\n",
    "#We believe that, even though their scores were high, there was not enough people to support a recommendation.\n",
    "#Having this in mind, our next approach was to count, for every beer, the number of reviews which gave the highest value in both score and \n",
    "#overall. We selected only these 2 features because they evaluate the beer in a holistic way. From there, we selected the top 3 based on the \n",
    "#number of reviews\n",
    "\n",
    "result = execute_read(driver, query)\n",
    "\n",
    "pprint(result)"
   ]
  }
 ],
 "metadata": {
  "hide_input": false,
  "kernelspec": {
   "display_name": "Python 3 (ipykernel)",
   "language": "python",
   "name": "python3"
  },
  "language_info": {
   "codemirror_mode": {
    "name": "ipython",
    "version": 3
   },
   "file_extension": ".py",
   "mimetype": "text/x-python",
   "name": "python",
   "nbconvert_exporter": "python",
   "pygments_lexer": "ipython3",
   "version": "3.9.13"
  },
  "toc": {
   "base_numbering": 1,
   "nav_menu": {},
   "number_sections": true,
   "sideBar": true,
   "skip_h1_title": false,
   "title_cell": "Table of Contents",
   "title_sidebar": "Contents",
   "toc_cell": false,
   "toc_position": {},
   "toc_section_display": true,
   "toc_window_display": false
  },
  "varInspector": {
   "cols": {
    "lenName": 16,
    "lenType": 16,
    "lenVar": 40
   },
   "kernels_config": {
    "python": {
     "delete_cmd_postfix": "",
     "delete_cmd_prefix": "del ",
     "library": "var_list.py",
     "varRefreshCmd": "print(var_dic_list())"
    },
    "r": {
     "delete_cmd_postfix": ") ",
     "delete_cmd_prefix": "rm(",
     "library": "var_list.r",
     "varRefreshCmd": "cat(var_dic_list()) "
    }
   },
   "types_to_exclude": [
    "module",
    "function",
    "builtin_function_or_method",
    "instance",
    "_Feature"
   ],
   "window_display": false
  },
  "vscode": {
   "interpreter": {
    "hash": "aea149784bd30735ce6bf75b9a5314843328adf2083b944f20623ef50c2ca00d"
   }
  }
 },
 "nbformat": 4,
 "nbformat_minor": 4
}
